{
 "cells": [
  {
   "cell_type": "code",
   "execution_count": 1,
   "metadata": {},
   "outputs": [
    {
     "name": "stdout",
     "output_type": "stream",
     "text": [
      "['hawaii_stations.csv', 'hawaii_measurements.csv']\n"
     ]
    }
   ],
   "source": [
    "# dependencies\n",
    "import pandas as pd\n",
    "import os\n",
    "import mimetypes\n",
    "\n",
    "# path to resource files\n",
    "path = \"Resources\"\n",
    "\n",
    "# get a file name list\n",
    "files = [f for f in os.listdir(path) if (mimetypes.guess_type(f)[0] == \"text/csv\" and not f.startswith('clean_'))]\n",
    "print(files)"
   ]
  },
  {
   "cell_type": "code",
   "execution_count": 2,
   "metadata": {
    "collapsed": true
   },
   "outputs": [],
   "source": [
    "def cleanData(path, file):\n",
    "    pd.read_csv(os.path.join(path, file), dtype=object).dropna(axis=0).to_csv(os.path.join(path, 'clean_' + file))"
   ]
  },
  {
   "cell_type": "code",
   "execution_count": 3,
   "metadata": {},
   "outputs": [],
   "source": [
    "# take a look at each csv\n",
    "st = pd.read_csv(os.path.join(path, files[0]))\n",
    "# st"
   ]
  },
  {
   "cell_type": "code",
   "execution_count": 4,
   "metadata": {},
   "outputs": [],
   "source": [
    "ms = pd.read_csv(os.path.join(path, files[1]))\n",
    "# ms"
   ]
  },
  {
   "cell_type": "code",
   "execution_count": 5,
   "metadata": {},
   "outputs": [],
   "source": [
    "# clean and save data\n",
    "for file in files:\n",
    "    cleanData(path,file)"
   ]
  },
  {
   "cell_type": "code",
   "execution_count": null,
   "metadata": {
    "collapsed": true
   },
   "outputs": [],
   "source": []
  }
 ],
 "metadata": {
  "kernelspec": {
   "display_name": "Python [conda env:PythonData]",
   "language": "python",
   "name": "conda-env-PythonData-py"
  },
  "language_info": {
   "codemirror_mode": {
    "name": "ipython",
    "version": 3
   },
   "file_extension": ".py",
   "mimetype": "text/x-python",
   "name": "python",
   "nbconvert_exporter": "python",
   "pygments_lexer": "ipython3",
   "version": "3.6.3"
  }
 },
 "nbformat": 4,
 "nbformat_minor": 2
}
