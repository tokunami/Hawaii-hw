{
 "cells": [
  {
   "cell_type": "markdown",
   "metadata": {},
   "source": [
    "# Step 3 - Climate Analysis and Exploration"
   ]
  },
  {
   "cell_type": "code",
   "execution_count": 71,
   "metadata": {
    "collapsed": true
   },
   "outputs": [],
   "source": [
    "# Dependencies\n",
    "import sqlalchemy\n",
    "from sqlalchemy.ext.automap import automap_base\n",
    "from sqlalchemy.orm import Session\n",
    "from sqlalchemy import create_engine, inspect, func\n",
    "\n",
    "import datetime as dt\n",
    "import pandas as pd\n",
    "\n",
    "import matplotlib.pyplot as plt\n",
    "\n",
    "startDate='2018-05-25'\n",
    "endDate='2018-05-30'"
   ]
  },
  {
   "cell_type": "code",
   "execution_count": 72,
   "metadata": {},
   "outputs": [],
   "source": [
    "# function definitions\n",
    "def isDate(date, checker=False):\n",
    "    if len(date.split('-')) == 3 and len(date.split('-')[0]) == 4 and len(date.split('-')[1]) == 2 and len(date.split('-')[2]) == 2:\n",
    "        checker = True\n",
    "    else:\n",
    "        print(f'Please enter date correctly! YYYY-MM-DD')\n",
    "    return checker\n",
    "\n",
    "def yearAgoDate(date):\n",
    "    if isDate(date):\n",
    "        Year = int(date.split('-')[0])\n",
    "        Month = int(date.split('-')[1])\n",
    "        Day = int(date.split('-')[2])\n",
    "    return dt.date(Year-1, Month, Day)"
   ]
  },
  {
   "cell_type": "code",
   "execution_count": 75,
   "metadata": {},
   "outputs": [],
   "source": [
    "# Choose a start date and end date for your trip. Make sure that your vacation range is approximately 3-15 days total.\n",
    "# function definition\n",
    "def setDate(dateType, isCorrect=False):\n",
    "#     print(isCorrect)\n",
    "    while not isCorrect:\n",
    "        if dateType == 'dept':\n",
    "            startDate = input(f'Please enter your departure date YYYY-MM-DD: ')\n",
    "            isCorrect = isDate(startDate)\n",
    "            return startDate\n",
    "        elif dateType == 'arr':\n",
    "            endDate = input(f'Please enter your arriving date YYYY-MM-DD: ')\n",
    "            isCorrect = isDate(endDate)\n",
    "            return endDate\n",
    "        else:\n",
    "            print('wrong date type: use dept or arr')"
   ]
  },
  {
   "cell_type": "code",
   "execution_count": 76,
   "metadata": {},
   "outputs": [
    {
     "name": "stdout",
     "output_type": "stream",
     "text": [
      "Let's start trip planning!\n",
      "Please enter your departure date YYYY-MM-DD: 2018-01-02\n",
      "2018-01-02\n"
     ]
    }
   ],
   "source": [
    "# set Dates\n",
    "print(\"Let's start trip planning!\")\n",
    "startDate = setDate('dept')"
   ]
  },
  {
   "cell_type": "code",
   "execution_count": 46,
   "metadata": {},
   "outputs": [
    {
     "name": "stdout",
     "output_type": "stream",
     "text": [
      "Please enter your arriving date YYYY-MM-DD: 2018-05-30\n"
     ]
    }
   ],
   "source": [
    "endDate = setDate('arr')"
   ]
  },
  {
   "cell_type": "code",
   "execution_count": 47,
   "metadata": {},
   "outputs": [],
   "source": [
    "# Use SQLAlchemy create_engine to connect to your sqlite database.\n",
    "engine = create_engine(\"sqlite:///hawaii.sqlite\", echo=False)"
   ]
  },
  {
   "cell_type": "code",
   "execution_count": 48,
   "metadata": {},
   "outputs": [
    {
     "data": {
      "text/plain": [
       "['measurements', 'stations']"
      ]
     },
     "execution_count": 48,
     "metadata": {},
     "output_type": "execute_result"
    }
   ],
   "source": [
    "inspector = inspect(engine)\n",
    "inspector.get_table_names()"
   ]
  },
  {
   "cell_type": "code",
   "execution_count": 49,
   "metadata": {},
   "outputs": [
    {
     "name": "stdout",
     "output_type": "stream",
     "text": [
      "id INTEGER\n",
      "station VARCHAR\n",
      "date VARCHAR\n",
      "prcp FLOAT\n",
      "tobs INTEGER\n"
     ]
    }
   ],
   "source": [
    "# Get a list of column names and types\n",
    "ms_columns = inspector.get_columns('measurements')\n",
    "for c in ms_columns:\n",
    "    print(c['name'], c[\"type\"])\n",
    "# columns"
   ]
  },
  {
   "cell_type": "code",
   "execution_count": 50,
   "metadata": {},
   "outputs": [
    {
     "name": "stdout",
     "output_type": "stream",
     "text": [
      "id INTEGER\n",
      "station VARCHAR\n",
      "name VARCHAR\n",
      "latitude FLOAT\n",
      "longtitude FLOAT\n",
      "elevation FLOAT\n"
     ]
    }
   ],
   "source": [
    "st_columns = inspector.get_columns('stations')\n",
    "for c in st_columns:\n",
    "    print(c['name'], c[\"type\"])\n",
    "# columns"
   ]
  },
  {
   "cell_type": "code",
   "execution_count": 51,
   "metadata": {
    "collapsed": true
   },
   "outputs": [],
   "source": [
    "# Use SQLAlchemy automap_base() to reflect your tables into classes and save a reference to those classes called Station and Measurement.\n",
    "Base = automap_base()\n",
    "Base.prepare(engine, reflect=True)\n",
    "Mea = Base.classes.measurements\n",
    "Sta = Base.classes.stations"
   ]
  },
  {
   "cell_type": "code",
   "execution_count": 52,
   "metadata": {
    "collapsed": true
   },
   "outputs": [],
   "source": [
    "session = Session(engine)"
   ]
  },
  {
   "cell_type": "code",
   "execution_count": 53,
   "metadata": {},
   "outputs": [
    {
     "data": {
      "text/plain": [
       "[(18103)]"
      ]
     },
     "execution_count": 53,
     "metadata": {},
     "output_type": "execute_result"
    }
   ],
   "source": [
    "session.query(func.count(Mea.date)).all()"
   ]
  },
  {
   "cell_type": "code",
   "execution_count": 54,
   "metadata": {},
   "outputs": [
    {
     "data": {
      "text/plain": [
       "[(9)]"
      ]
     },
     "execution_count": 54,
     "metadata": {},
     "output_type": "execute_result"
    }
   ],
   "source": [
    "session.query(func.count(Sta.name)).all()"
   ]
  },
  {
   "cell_type": "markdown",
   "metadata": {},
   "source": [
    "## Precipitation Analysis"
   ]
  },
  {
   "cell_type": "code",
   "execution_count": 55,
   "metadata": {},
   "outputs": [],
   "source": [
    "# get the latest date in Measurement\n",
    "latest = session.query(Mea.date).order_by(Mea.date.desc()).first()[0]\n",
    "lYear = int(latest.split('-')[0])\n",
    "lMonth = int(latest.split('-')[1])\n",
    "lDay = int(latest.split('-')[2])\n",
    "\n",
    "latestDate = dt.date(lYear, lMonth, lDay)\n",
    "\n",
    "# get a year ago data from latestDate\n",
    "yearAgoDate = dt.date(lYear-1, lMonth, lDay)\n",
    "\n",
    "# Design a query to retrieve the last 12 months of precipitation data\n",
    "# Select only the date and prcp values\n",
    "# Load the query results into a Pandas DataFrame\n",
    "prcp = pd.read_sql(session.query(Mea.date, Mea.prcp).filter(Mea.date > yearAgoDate, Mea.date <= latestDate).order_by(Mea.date).statement, session.bind)\n",
    "# prcp"
   ]
  },
  {
   "cell_type": "code",
   "execution_count": 56,
   "metadata": {},
   "outputs": [
    {
     "data": {
      "text/plain": [
       "pandas._libs.tslib.Timestamp"
      ]
     },
     "execution_count": 56,
     "metadata": {},
     "output_type": "execute_result"
    }
   ],
   "source": [
    "# set date as datetime\n",
    "prcp['date']=pd.to_datetime(prcp['date'])\n",
    "type(prcp.loc[0,'date'])"
   ]
  },
  {
   "cell_type": "code",
   "execution_count": 57,
   "metadata": {},
   "outputs": [
    {
     "name": "stderr",
     "output_type": "stream",
     "text": [
      "/Users/tokunaga/.pyenv/versions/anaconda3-5.0.0/envs/PythonData/lib/python3.6/site-packages/matplotlib/cbook/deprecation.py:106: MatplotlibDeprecationWarning: Adding an axes using the same arguments as a previous axes currently reuses the earlier instance.  In a future version, a new instance will always be created and returned.  Meanwhile, this warning can be suppressed, and the future behavior ensured, by passing a unique label to each axes instance.\n",
      "  warnings.warn(message, mplDeprecation, stacklevel=1)\n"
     ]
    },
    {
     "data": {
      "image/png": "[encoded data removed]",
      "text/plain": [
       "<matplotlib.figure.Figure at 0x111ce9ac8>"
      ]
     },
     "metadata": {},
     "output_type": "display_data"
    }
   ],
   "source": [
    "# draw a plot\n",
    "\n",
    "# set the index to the date column.\n",
    "prcp_i = prcp.set_index('date')\n",
    "\n",
    "%matplotlib inline\n",
    "p1 = plt.bar(prcp_i.index, prcp_i['prcp'])\n",
    "# p1 = plt.scatter(prcp_i.index, prcp_i['prcp'])\n",
    "plt.xticks(rotation=70)\n",
    "plt.legend([p1],['precipitation'])\n",
    "\n",
    "ax=plt.subplot()\n",
    "ax.set_xlabel('date')\n",
    "ax.set_ylabel('precipitation')\n",
    "\n",
    "ax.grid()\n",
    "# ax.set_xlim(['2017-01-01','2017-12-31'])\n",
    "\n",
    "plt.show()"
   ]
  },
  {
   "cell_type": "code",
   "execution_count": 58,
   "metadata": {},
   "outputs": [
    {
     "data": {
      "text/html": [
       "<div>\n",
       "<style>\n",
       "    .dataframe thead tr:only-child th {\n",
       "        text-align: right;\n",
       "    }\n",
       "\n",
       "    .dataframe thead th {\n",
       "        text-align: left;\n",
       "    }\n",
       "\n",
       "    .dataframe tbody tr th {\n",
       "        vertical-align: top;\n",
       "    }\n",
       "</style>\n",
       "<table border=\"1\" class=\"dataframe\">\n",
       "  <thead>\n",
       "    <tr style=\"text-align: right;\">\n",
       "      <th></th>\n",
       "      <th>prcp</th>\n",
       "    </tr>\n",
       "  </thead>\n",
       "  <tbody>\n",
       "    <tr>\n",
       "      <th>count</th>\n",
       "      <td>2015.000000</td>\n",
       "    </tr>\n",
       "    <tr>\n",
       "      <th>mean</th>\n",
       "      <td>0.176462</td>\n",
       "    </tr>\n",
       "    <tr>\n",
       "      <th>std</th>\n",
       "      <td>0.460288</td>\n",
       "    </tr>\n",
       "    <tr>\n",
       "      <th>min</th>\n",
       "      <td>0.000000</td>\n",
       "    </tr>\n",
       "    <tr>\n",
       "      <th>25%</th>\n",
       "      <td>0.000000</td>\n",
       "    </tr>\n",
       "    <tr>\n",
       "      <th>50%</th>\n",
       "      <td>0.020000</td>\n",
       "    </tr>\n",
       "    <tr>\n",
       "      <th>75%</th>\n",
       "      <td>0.130000</td>\n",
       "    </tr>\n",
       "    <tr>\n",
       "      <th>max</th>\n",
       "      <td>6.700000</td>\n",
       "    </tr>\n",
       "  </tbody>\n",
       "</table>\n",
       "</div>"
      ],
      "text/plain": [
       "              prcp\n",
       "count  2015.000000\n",
       "mean      0.176462\n",
       "std       0.460288\n",
       "min       0.000000\n",
       "25%       0.000000\n",
       "50%       0.020000\n",
       "75%       0.130000\n",
       "max       6.700000"
      ]
     },
     "execution_count": 58,
     "metadata": {},
     "output_type": "execute_result"
    }
   ],
   "source": [
    "# Use Pandas to print the summary statistics for the precipitation data.\n",
    "prcp.describe()"
   ]
  },
  {
   "cell_type": "markdown",
   "metadata": {},
   "source": [
    "## Station Analysis"
   ]
  },
  {
   "cell_type": "code",
   "execution_count": 59,
   "metadata": {},
   "outputs": [
    {
     "data": {
      "text/plain": [
       "[(9)]"
      ]
     },
     "execution_count": 59,
     "metadata": {},
     "output_type": "execute_result"
    }
   ],
   "source": [
    "# Design a query to calculate the total number of stations.\n",
    "session.query(func.count(Sta.name)).all()"
   ]
  },
  {
   "cell_type": "code",
   "execution_count": 60,
   "metadata": {},
   "outputs": [
    {
     "name": "stdout",
     "output_type": "stream",
     "text": [
      "WAIHEE 837.5, HI US has The highest number of observations, the observation count is 2772.\n"
     ]
    }
   ],
   "source": [
    "# Design a query to find the most active stations.\n",
    "# List the stations and observation counts in descending order\n",
    "sel = [Sta.name, Mea.station, Mea.date, Mea.prcp, Mea.tobs]\n",
    "\n",
    "st_DF=pd.read_sql(session.query(*sel).filter(Mea.station == Sta.station).order_by(Mea.date).statement, session.bind)\n",
    "st_DF.groupby('name').count().sort_values(by='station', ascending=False)['station']\n",
    "\n",
    "# Which station has the highest number of observations?\n",
    "highestSt = st_DF.groupby('name').count().sort_values(by='station', ascending=False)['station'].index[0]\n",
    "highestCnt = st_DF.groupby('name').count().sort_values(by='station', ascending=False)['station'][0]\n",
    "\n",
    "# print results\n",
    "print(f'{highestSt} has The highest number of observations, the observation count is {highestCnt}.')"
   ]
  },
  {
   "cell_type": "code",
   "execution_count": 61,
   "metadata": {},
   "outputs": [
    {
     "name": "stderr",
     "output_type": "stream",
     "text": [
      "/Users/tokunaga/.pyenv/versions/anaconda3-5.0.0/envs/PythonData/lib/python3.6/site-packages/matplotlib/cbook/deprecation.py:106: MatplotlibDeprecationWarning: Adding an axes using the same arguments as a previous axes currently reuses the earlier instance.  In a future version, a new instance will always be created and returned.  Meanwhile, this warning can be suppressed, and the future behavior ensured, by passing a unique label to each axes instance.\n",
      "  warnings.warn(message, mplDeprecation, stacklevel=1)\n"
     ]
    },
    {
     "data": {
      "image/png": "[encoded data removed]",
      "text/plain": [
       "<matplotlib.figure.Figure at 0x116f0ecf8>"
      ]
     },
     "metadata": {},
     "output_type": "display_data"
    }
   ],
   "source": [
    "# Design a query to retrieve the last 12 months of temperature observation data (tobs).\n",
    "tobs_past12 = pd.read_sql(session.query(Mea.date, Sta.name, Mea.tobs).filter(Mea.station == Sta.station, Mea.date > yearAgoDate, Mea.date < latestDate).order_by(Mea.date).statement, session.bind)\n",
    "# tobs_past12\n",
    "\n",
    "# Filter by the station with the highest number of observations.\n",
    "tobs_past12.loc[tobs_past12['name']== highestSt]\n",
    "\n",
    "# Plot the results as a histogram with bins=12.\n",
    "tobs_past12.loc[tobs_past12['name']== highestSt].plot.hist(bins=12, alpha=0.5)\n",
    "ax=plt.subplot()\n",
    "ax.set_xlabel('Temperature / F')\n",
    "ax.grid()\n",
    "\n",
    "plt.show()"
   ]
  },
  {
   "cell_type": "markdown",
   "metadata": {},
   "source": [
    "## Temperature Analysis"
   ]
  },
  {
   "cell_type": "code",
   "execution_count": 80,
   "metadata": {
    "collapsed": true
   },
   "outputs": [],
   "source": [
    "# Write a function called calc_temps that will accept a start date and end date in the format %Y-%m-%d and return the minimum, average, and maximum temperatures for that range of dates.\n",
    "def calc_temps(start, end):\n",
    "    if start > end:\n",
    "        start_ = end\n",
    "        end_ = start\n",
    "    else:\n",
    "        start_ = start\n",
    "        end_ = end\n",
    "    \n",
    "    start_prev = yearAgoDate(start_)\n",
    "    end_prev = yearAgoDate(end_)\n",
    "\n",
    "    tobs_DF = pd.read_sql(session.query(Mea.date, Sta.name, Mea.tobs).filter(Mea.station == Sta.station, Mea.date > start_prev, Mea.date < end_prev).order_by(Mea.date).statement, session.bind)\n",
    "    return {\n",
    "        'min': tobs_DF.describe().loc[tobs_DF.describe().index=='min']['tobs'][0],\n",
    "        'avg': tobs_DF.describe().loc[tobs_DF.describe().index=='mean']['tobs'][0],\n",
    "        'max': tobs_DF.describe().loc[tobs_DF.describe().index=='max']['tobs'][0],\n",
    "        'start_date': start_prev,\n",
    "        'end_date': end_prev\n",
    "    }"
   ]
  },
  {
   "cell_type": "code",
   "execution_count": 84,
   "metadata": {},
   "outputs": [
    {
     "name": "stderr",
     "output_type": "stream",
     "text": [
      "/Users/tokunaga/.pyenv/versions/anaconda3-5.0.0/envs/PythonData/lib/python3.6/site-packages/matplotlib/cbook/deprecation.py:106: MatplotlibDeprecationWarning: Adding an axes using the same arguments as a previous axes currently reuses the earlier instance.  In a future version, a new instance will always be created and returned.  Meanwhile, this warning can be suppressed, and the future behavior ensured, by passing a unique label to each axes instance.\n",
      "  warnings.warn(message, mplDeprecation, stacklevel=1)\n"
     ]
    },
    {
     "data": {
      "image/png": "[encoded data removed]",
      "text/plain": [
       "<matplotlib.figure.Figure at 0x11bf552b0>"
      ]
     },
     "metadata": {},
     "output_type": "display_data"
    }
   ],
   "source": [
    "# Use the calc_temps function to calculate the min, avg, and max temperatures for your trip using the matching dates from the previous year (i.e. use \"2017-01-01\" if your trip start date was \"2018-01-01\")\n",
    "data=calc_temps(startDate, endDate)\n",
    "\n",
    "# Plot the min, avg, and max temperature from your previous query as a bar chart.\n",
    "# Use the average temperature as the bar height.\n",
    "# Use the peak-to-peak (tmax-tmin) value as the y error bar (yerr).\n",
    "plt.bar(0,data['avg'],yerr=data['max']-data['min'], alpha=0.5)\n",
    "plt.xticks([1],['avg'])\n",
    "ax=plt.subplot()\n",
    "ax.set_ylabel('Temp (F)')\n",
    "\n",
    "sDate = data['start_date']\n",
    "eDate = data['end_date']\n",
    "plt.title(f'Trip Avg Temp from {sDate} to {eDate}')\n",
    "\n",
    "ax.grid()\n",
    "plt.show()\n"
   ]
  },
  {
   "cell_type": "markdown",
   "metadata": {},
   "source": [
    "## Optional Recommended Analysis"
   ]
  },
  {
   "cell_type": "code",
   "execution_count": null,
   "metadata": {
    "collapsed": true
   },
   "outputs": [],
   "source": [
    "# Calcualte the rainfall per weather station using the previous year's matching dates.\n",
    "# Calculate the daily normals. Normals are the averages for min, avg, and max temperatures.\n",
    "\n",
    "\n",
    "# Create a function called daily_normals that will calculate the daily normals for a specific date. This date string will be in the format %m-%d. Be sure to use all historic tobs that match that date string.\n",
    "# Create a list of dates for your trip in the format %m-%d. Use the daily_normals function to calculate the normals for each date string and append the results to a list.\n",
    "# Load the list of daily normals into a Pandas DataFrame and set the index equal to the date.\n",
    "# Use Pandas to plot an area plot (stacked=False) for the daily normals."
   ]
  }
 ],
 "metadata": {
  "kernelspec": {
   "display_name": "Python [conda env:PythonData]",
   "language": "python",
   "name": "conda-env-PythonData-py"
  },
  "language_info": {
   "codemirror_mode": {
    "name": "ipython",
    "version": 3
   },
   "file_extension": ".py",
   "mimetype": "text/x-python",
   "name": "python",
   "nbconvert_exporter": "python",
   "pygments_lexer": "ipython3",
   "version": "3.6.3"
  }
 },
 "nbformat": 4,
 "nbformat_minor": 2
}
